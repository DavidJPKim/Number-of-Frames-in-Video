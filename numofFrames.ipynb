{
 "cells": [
  {
   "cell_type": "code",
   "execution_count": 6,
   "metadata": {},
   "outputs": [],
   "source": [
    "import skvideo.io\n",
    "import skvideo.datasets\n"
   ]
  },
  {
   "cell_type": "code",
   "execution_count": null,
   "metadata": {},
   "outputs": [],
   "source": [
    "#the goal of this program is to print number of frames in a video"
   ]
  },
  {
   "cell_type": "code",
   "execution_count": 7,
   "metadata": {},
   "outputs": [
    {
     "name": "stdout",
     "output_type": "stream",
     "text": [
      "[146, 134, 145, 165, 189, 188]\n"
     ]
    }
   ],
   "source": [
    "#write path to all videos you want here\n",
    "fileName = ('v_WritingOnBoard_g02_c03.avi','v_WritingOnBoard_g06_c06.avi',\n",
    "            'v_WritingOnBoard_g19_c04.avi','v_YoYo_g01_c03.avi','v_YoYo_g01_c07.avi',\n",
    "           'v_YoYo_g02_c01.avi')\n",
    "#iterator\n",
    "i = 0\n",
    "#list where number of frames is kept\n",
    "frames = []\n",
    "#loops through for number of variables in fileName\n",
    "for var in fileName:\n",
    "    #reads video\n",
    "    videodata = skvideo.io.vread(fileName[i])\n",
    "    #gets shape of the data\n",
    "    shapeOfData = videodata.shape\n",
    "    #Gets number of frames in video\n",
    "    frameCount = shapeOfData[0]\n",
    "    #adds number of frames to list\n",
    "    frames.append(frameCount)\n",
    "    #increases iterator\n",
    "    i += 1\n",
    "#prints out results    \n",
    "print(frames)"
   ]
  },
  {
   "cell_type": "code",
   "execution_count": null,
   "metadata": {},
   "outputs": [],
   "source": []
  }
 ],
 "metadata": {
  "kernelspec": {
   "display_name": "Python 3",
   "language": "python",
   "name": "python3"
  },
  "language_info": {
   "codemirror_mode": {
    "name": "ipython",
    "version": 3
   },
   "file_extension": ".py",
   "mimetype": "text/x-python",
   "name": "python",
   "nbconvert_exporter": "python",
   "pygments_lexer": "ipython3",
   "version": "3.7.1"
  }
 },
 "nbformat": 4,
 "nbformat_minor": 2
}
